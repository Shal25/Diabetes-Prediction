{
  "nbformat": 4,
  "nbformat_minor": 0,
  "metadata": {
    "colab": {
      "private_outputs": true,
      "provenance": []
    },
    "kernelspec": {
      "name": "python3",
      "display_name": "Python 3"
    },
    "language_info": {
      "name": "python"
    }
  },
  "cells": [
    {
      "cell_type": "code",
      "execution_count": null,
      "metadata": {
        "id": "NfwWWD13rc6Q"
      },
      "outputs": [],
      "source": [
        "import pandas as pd\n",
        "import numpy as np"
      ]
    },
    {
      "cell_type": "code",
      "source": [
        "df = pd.read_csv(\"/content/diabetes_prediction_dataset.csv\")"
      ],
      "metadata": {
        "id": "nF5OcIiUrtYO"
      },
      "execution_count": null,
      "outputs": []
    },
    {
      "cell_type": "code",
      "source": [
        "df.head()"
      ],
      "metadata": {
        "id": "P3zaVckosIz9"
      },
      "execution_count": null,
      "outputs": []
    },
    {
      "cell_type": "code",
      "source": [
        "df.columns"
      ],
      "metadata": {
        "id": "yaDnX1e780HJ"
      },
      "execution_count": null,
      "outputs": []
    },
    {
      "cell_type": "code",
      "source": [
        "df.isnull().sum()"
      ],
      "metadata": {
        "id": "NWKG1-lmsLo4"
      },
      "execution_count": null,
      "outputs": []
    },
    {
      "cell_type": "code",
      "source": [
        "df.info()"
      ],
      "metadata": {
        "id": "cux6XYYbvWa0"
      },
      "execution_count": null,
      "outputs": []
    },
    {
      "cell_type": "code",
      "source": [
        "df.describe()"
      ],
      "metadata": {
        "id": "hMf1aSdOvbBT"
      },
      "execution_count": null,
      "outputs": []
    },
    {
      "cell_type": "code",
      "source": [
        "df['smoking_history'].unique()"
      ],
      "metadata": {
        "id": "JN4Yzl0fvrfp"
      },
      "execution_count": null,
      "outputs": []
    },
    {
      "cell_type": "code",
      "source": [
        "df = pd.get_dummies(df,columns=[\"smoking_history\"],drop_first = True)"
      ],
      "metadata": {
        "id": "Run1qwTdwpgu"
      },
      "execution_count": null,
      "outputs": []
    },
    {
      "cell_type": "code",
      "source": [
        "df.head()"
      ],
      "metadata": {
        "id": "Jw3DoUNSw58w"
      },
      "execution_count": null,
      "outputs": []
    },
    {
      "cell_type": "code",
      "source": [
        "df.info()"
      ],
      "metadata": {
        "id": "E2ptumnPxAAa"
      },
      "execution_count": null,
      "outputs": []
    },
    {
      "cell_type": "code",
      "source": [
        "df = pd.get_dummies(df,columns=[\"gender\"],drop_first = True)\n",
        "df.head()\n",
        "df.info()"
      ],
      "metadata": {
        "id": "b2UXxkQHxOeV"
      },
      "execution_count": null,
      "outputs": []
    },
    {
      "cell_type": "code",
      "source": [
        "from sklearn.preprocessing import StandardScaler\n",
        "nums_cols = [\"age\",\"bmi\",\"HbA1c_level\",\"blood_glucose_level\"]\n",
        "scaler = StandardScaler()\n",
        "df[nums_cols] = scaler.fit_transform(df[nums_cols])"
      ],
      "metadata": {
        "id": "xe8nDfkhxf0C"
      },
      "execution_count": null,
      "outputs": []
    },
    {
      "cell_type": "code",
      "source": [
        "from sklearn.model_selection import train_test_split\n",
        "X = df.drop(columns=[\"diabetes\"])\n",
        "y = df[\"diabetes\"]\n",
        "X_train,X_test,y_train,y_test = train_test_split(X,y,test_size=0.2,random_state=42)"
      ],
      "metadata": {
        "id": "jLYq08LBx6DD"
      },
      "execution_count": null,
      "outputs": []
    },
    {
      "cell_type": "code",
      "source": [
        "from sklearn.linear_model import LogisticRegression\n",
        "from sklearn.metrics import accuracy_score, classification_report\n",
        "logistic = LogisticRegression();\n",
        "logistic.fit(X_train,y_train)\n",
        "pred_logistic = logistic.predict(X_test)\n",
        "print(\"Accurancy: \",accuracy_score(y_test,pred_logistic))\n",
        "print(classification_report(y_test,pred_logistic))\n"
      ],
      "metadata": {
        "id": "YxIlNza9y4P8"
      },
      "execution_count": null,
      "outputs": []
    },
    {
      "cell_type": "code",
      "source": [
        "from sklearn.ensemble import RandomForestClassifier\n",
        "rf = RandomForestClassifier()\n",
        "rf.fit(X_train,y_train)\n",
        "pred_rf = rf.predict(X_test)\n",
        "print(\"Accurancy: \",accuracy_score(y_test,pred_rf))\n",
        "print(classification_report(y_test,pred_rf))"
      ],
      "metadata": {
        "id": "IxLc0qtxzuxb"
      },
      "execution_count": null,
      "outputs": []
    },
    {
      "cell_type": "code",
      "source": [
        "from sklearn.svm import SVC\n",
        "svm = SVC()\n",
        "svm.fit(X_train,y_train)\n",
        "pred_svm = svm.predict(X_test)\n",
        "print(\"Accurancy: \",accuracy_score(y_test,pred_svm))\n",
        "print(classification_report(y_test,pred_svm))"
      ],
      "metadata": {
        "id": "W8m_G7we0IZE"
      },
      "execution_count": null,
      "outputs": []
    },
    {
      "cell_type": "code",
      "source": [
        "print(f\"Logistic Regression Accuracy: {accuracy_score(y_test, pred_logistic)}\")\n",
        "print(f\"Random Forest Accuracy: {accuracy_score(y_test, pred_rf)}\")\n",
        "print(f\"SVM Accuracy: {accuracy_score(y_test, pred_svm)}\")"
      ],
      "metadata": {
        "id": "sUHb3KuQ0owE"
      },
      "execution_count": null,
      "outputs": []
    },
    {
      "cell_type": "code",
      "source": [
        "from sklearn.metrics import confusion_matrix\n",
        "cm = confusion_matrix(y_test,pred_rf)\n",
        "cm"
      ],
      "metadata": {
        "id": "Qn6L_sRtiLnT"
      },
      "execution_count": null,
      "outputs": []
    },
    {
      "cell_type": "code",
      "source": [
        "import matplotlib.pyplot as plt\n",
        "import seaborn as sns\n",
        "plt.figure(figsize=(5,4))\n",
        "sns.heatmap(cm, annot=True, fmt=\"d\", cmap=\"Blues\", xticklabels=[\"No Diabetes\", \"Diabetes\"], yticklabels=[\"No Diabetes\", \"Diabetes\"])\n",
        "plt.xlabel(\"Predicted\")\n",
        "plt.ylabel(\"Actual\")\n",
        "plt.title(\"Confusion Matrix - Random Forest\")\n",
        "plt.show()"
      ],
      "metadata": {
        "id": "y6FryZMxjI_k"
      },
      "execution_count": null,
      "outputs": []
    }
  ]
}